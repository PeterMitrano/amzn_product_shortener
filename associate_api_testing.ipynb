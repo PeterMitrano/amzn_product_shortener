{
 "cells": [
  {
   "cell_type": "code",
   "execution_count": 20,
   "metadata": {
    "collapsed": false,
    "scrolled": true
   },
   "outputs": [],
   "source": [
    "import base64\n",
    "import datetime\n",
    "import hashlib\n",
    "import hmac \n",
    "import requests\n",
    "import configparser\n",
    "import urllib.parse\n",
    "from collections import OrderedDict\n",
    "\n",
    "\n",
    "def sign(key, msg):\n",
    "    return base64.b64encode(hmac.new(key.encode(\"utf-8\"), msg.encode('utf-8'), hashlib.sha256).digest())\n",
    "\n",
    "# Read AWS access key from env. variables or configuration file. Best practice is NOT\n",
    "# to embed credentials in code.\n",
    "parser = configparser.ConfigParser()\n",
    "parser.read('secrets.ini')\n",
    "associate_id = parser['default']['associate_id']\n",
    "access_key = parser['default']['access_key']\n",
    "secret_key = parser['default']['secret_key']\n",
    "\n",
    "method = 'GET'\n",
    "region = 'us-east-1'\n",
    "endpoint = \"webservices.amazon.com\"\n",
    "request_uri = \"/onca/xml\"\n",
    "\n",
    "params = OrderedDict([\n",
    "  (\"AWSAccessKeyId\", access_key),\n",
    "  (\"AssociateTag\", associate_id),\n",
    "  (\"Keywords\", \"book\"),\n",
    "  (\"Operation\", \"ItemSearch\"),\n",
    "  (\"SearchIndex\", \"All\"),\n",
    "  (\"Service\", \"AWSECommerceService\"),\n",
    "])\n",
    "\n",
    "# Set current timestamp if not set\n",
    "t = datetime.datetime.utcnow()\n",
    "amzdate = t.strftime('%Y-%m-%dT%H:%M:%S.000Z')\n",
    "datestamp = t.strftime('%Y%m%d')\n",
    "params[\"Timestamp\"] = amzdate\n",
    "\n",
    "# Generate the canonical query\n",
    "params_list = []\n",
    "for key, value in params.items():\n",
    "    params_list.append(urllib.parse.quote_plus(key) + \"=\" + urllib.parse.quote_plus(value))\n",
    "canonical_query_string = \"&\".join(params_list)\n",
    "\n",
    "# Generate the string to be signed\n",
    "string_to_sign = \"GET\" + \"\\n\" + endpoint + \"\\n\" + request_uri + \"\\n\" + canonical_query_string\n",
    "\n",
    "signature = sign(secret_key, string_to_sign)\n",
    "\n",
    "request_url = \"http://\" + endpoint + request_uri + \"?\" + canonical_query_string + \"&\" + \"Signature=\" + urllib.parse.quote_plus(signature)"
   ]
  },
  {
   "cell_type": "code",
   "execution_count": 21,
   "metadata": {
    "collapsed": false
   },
   "outputs": [],
   "source": [
    "response = requests.get(request_url)"
   ]
  },
  {
   "cell_type": "code",
   "execution_count": 23,
   "metadata": {
    "collapsed": false
   },
   "outputs": [
    {
     "name": "stdout",
     "output_type": "stream",
     "text": [
      "True\n",
      "<Element '{http://webservices.amazon.com/AWSECommerceService/2011-08-01}ItemSearchResponse' at 0x7fa63a2ee458>\n"
     ]
    }
   ],
   "source": [
    "import xml.etree.ElementTree as ET\n",
    "from IPython.core.display import display, HTML\n",
    "\n",
    "\n",
    "print(response.ok)\n",
    "try:\n",
    "    tree = ET.fromstring(response.content)\n",
    "    print(tree)\n",
    "except ET.ParseError:\n",
    "    display(HTML(str(response.content)))"
   ]
  },
  {
   "cell_type": "code",
   "execution_count": null,
   "metadata": {
    "collapsed": true
   },
   "outputs": [],
   "source": []
  }
 ],
 "metadata": {
  "kernelspec": {
   "display_name": "Python 3",
   "language": "python",
   "name": "python3"
  },
  "language_info": {
   "codemirror_mode": {
    "name": "ipython",
    "version": 3
   },
   "file_extension": ".py",
   "mimetype": "text/x-python",
   "name": "python",
   "nbconvert_exporter": "python",
   "pygments_lexer": "ipython3",
   "version": "3.5.2"
  }
 },
 "nbformat": 4,
 "nbformat_minor": 2
}
